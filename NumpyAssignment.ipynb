{
 "cells": [
  {
   "cell_type": "markdown",
   "metadata": {
    "id": "UZXjlass3ARu"
   },
   "source": [
    "\n",
    "# **1. Basic Array Manipulation:**\n"
   ]
  },
  {
   "cell_type": "markdown",
   "metadata": {
    "id": "tDWPQRm23C7o"
   },
   "source": [
    "Create a 1D array with values ranging from 0 to 9.\n"
   ]
  },
  {
   "cell_type": "code",
   "execution_count": 1,
   "metadata": {
    "id": "OvGF66_02Q8H"
   },
   "outputs": [
    {
     "name": "stdout",
     "output_type": "stream",
     "text": [
      "[0 1 2 3 4 5 6 7 8 9]\n"
     ]
    }
   ],
   "source": [
    "import numpy as np\n",
    "array=np.arange(10)\n",
    "print(array)"
   ]
  },
  {
   "cell_type": "markdown",
   "metadata": {
    "id": "UYzIzPyB3Ne3"
   },
   "source": [
    "Reshape the array into a 3x3 matrix.\n",
    "\n",
    "Explore Reshape Function"
   ]
  },
  {
   "cell_type": "code",
   "execution_count": 5,
   "metadata": {
    "id": "RLlzDCBc2Q_P"
   },
   "outputs": [
    {
     "name": "stdout",
     "output_type": "stream",
     "text": [
      "Reshaped 3x3 matrix:\n",
      " [[0 1 2]\n",
      " [3 4 5]\n",
      " [6 7 8]]\n"
     ]
    }
   ],
   "source": [
    "array = np.arange(9)\n",
    "matrix = array.reshape(3, 3)\n",
    "print(\"Reshaped 3x3 matrix:\\n\", matrix)"
   ]
  },
  {
   "cell_type": "markdown",
   "metadata": {
    "id": "KmhRK9Ti3Phn"
   },
   "source": [
    "Access the element at the second row, second column.\n"
   ]
  },
  {
   "cell_type": "code",
   "execution_count": 6,
   "metadata": {
    "id": "Dk_a1D3A3ijN"
   },
   "outputs": [
    {
     "data": {
      "text/plain": [
       "4"
      ]
     },
     "execution_count": 6,
     "metadata": {},
     "output_type": "execute_result"
    }
   ],
   "source": [
    "matrix[1 , 1]"
   ]
  },
  {
   "cell_type": "markdown",
   "metadata": {
    "id": "NlH7N-fZ36wc"
   },
   "source": [
    "Perform element-wise addition, subtraction, multiplication, and division on two arrays [1, 2, 3] and [4, 5, 6].\n"
   ]
  },
  {
   "cell_type": "code",
   "execution_count": 14,
   "metadata": {
    "id": "PkgNSo1a37kP"
   },
   "outputs": [
    {
     "name": "stdout",
     "output_type": "stream",
     "text": [
      "Addition is : [5 7 9]\n",
      "substration is : [-3 -3 -3]\n",
      "multiplication is : [ 4 10 18]\n",
      "division is :  [0.25 0.4  0.5 ]\n"
     ]
    }
   ],
   "source": [
    "array1 = np.array([1,2,3])\n",
    "array2 = np.array([4,5,6])\n",
    "addition = array1 + array2\n",
    "print(\"Addition is :\" ,addition)\n",
    "subtraction = array1 - array2\n",
    "print(\"substration is :\" ,subtraction)\n",
    "multiplication = array1 * array2\n",
    "print(\"multiplication is :\" ,multiplication)\n",
    "division = array1 / array2\n",
    "print(\"division is : \" ,division)"
   ]
  },
  {
   "cell_type": "markdown",
   "metadata": {
    "id": "JVt4zxkk8e0P"
   },
   "source": [
    "Find the sum, mean, and standard deviation of the array [1, 2, 3, 4, 5].\n"
   ]
  },
  {
   "cell_type": "code",
   "execution_count": 15,
   "metadata": {
    "id": "mQZxaZ0c8nhh"
   },
   "outputs": [
    {
     "name": "stdout",
     "output_type": "stream",
     "text": [
      "Sum: 15\n",
      "Mean: 3.0\n",
      "Standard Deviation: 1.4142135623730951\n"
     ]
    }
   ],
   "source": [
    "array = np.array([1, 2, 3, 4, 5])\n",
    "sum_array = np.sum(array)\n",
    "print(\"Sum:\", sum_array)\n",
    "mean_array = np.mean(array)\n",
    "print(\"Mean:\", mean_array)\n",
    "std_array = np.std(array)\n",
    "print(\"Standard Deviation:\", std_array)"
   ]
  },
  {
   "cell_type": "markdown",
   "metadata": {
    "id": "ji2XvW0Z8nn5"
   },
   "source": [
    "Reshape the array [1, 2, 3, 4, 5, 6] into a 2x3 array.\n",
    "\n",
    "Explore Reshape"
   ]
  },
  {
   "cell_type": "code",
   "execution_count": 16,
   "metadata": {
    "id": "FNbYlzyI8rAx"
   },
   "outputs": [
    {
     "name": "stdout",
     "output_type": "stream",
     "text": [
      "Reshaped 2x3 array:\n",
      " [[1 2 3]\n",
      " [4 5 6]]\n"
     ]
    }
   ],
   "source": [
    "array = np.array([1, 2, 3, 4, 5, 6])\n",
    "reshaped_array = array.reshape(2, 3)\n",
    "print(\"Reshaped 2x3 array:\\n\", reshaped_array)"
   ]
  },
  {
   "cell_type": "markdown",
   "metadata": {
    "id": "OE-5o0th3SU4"
   },
   "source": [
    "\n",
    "# **2. Indexing and Slicing:**\n"
   ]
  },
  {
   "cell_type": "markdown",
   "metadata": {
    "id": "yqNKWBOl3an3"
   },
   "source": [
    "Create a 5x5 array with random integers.\n"
   ]
  },
  {
   "cell_type": "code",
   "execution_count": 17,
   "metadata": {
    "id": "G-kX4nme2RBn"
   },
   "outputs": [
    {
     "name": "stdout",
     "output_type": "stream",
     "text": [
      "5x5 array with random integers:\n",
      " [[92 51 88 48 14]\n",
      " [73 82 67 61 53]\n",
      " [ 2 15 19 33 28]\n",
      " [ 4 86 34 39 20]\n",
      " [ 8 47 34 60 20]]\n"
     ]
    }
   ],
   "source": [
    "random_array = np.random.randint(0, 100, size=(5, 5))\n",
    "print(\"5x5 array with random integers:\\n\", random_array)"
   ]
  },
  {
   "cell_type": "markdown",
   "metadata": {
    "id": "LlilKAMF3bMX"
   },
   "source": [
    "Replace all values in the sub-array with a specific value.\n"
   ]
  },
  {
   "cell_type": "code",
   "execution_count": 18,
   "metadata": {
    "id": "gShfqRGm2REI"
   },
   "outputs": [
    {
     "name": "stdout",
     "output_type": "stream",
     "text": [
      "Original 5x5 array with random integers:\n",
      " [[52 76 31  4 69]\n",
      " [ 9 12  7 95 32]\n",
      " [90 99 22 67 85]\n",
      " [81 94 89 82 84]\n",
      " [80 33 29 30 19]]\n",
      "Array after replacing sub-array values with -1:\n",
      " [[52 76 31  4 69]\n",
      " [ 9 -1 -1 -1 32]\n",
      " [90 -1 -1 -1 85]\n",
      " [81 -1 -1 -1 84]\n",
      " [80 33 29 30 19]]\n"
     ]
    }
   ],
   "source": [
    "random_array = np.random.randint(0, 100, size=(5, 5))\n",
    "print(\"Original 5x5 array with random integers:\\n\", random_array)\n",
    "sub_array_rows = slice(1, 4)\n",
    "sub_array_cols = slice(1, 4)\n",
    "random_array[sub_array_rows, sub_array_cols] = -1\n",
    "print(\"Array after replacing sub-array values with -1:\\n\", random_array)"
   ]
  },
  {
   "cell_type": "markdown",
   "metadata": {
    "id": "1kUY7u023gfF"
   },
   "source": [
    "Extract the subarray [[3, 4], [7, 8]] from the array [[1, 2], [3, 4], [5, 6], [7, 8]].\n"
   ]
  },
  {
   "cell_type": "code",
   "execution_count": 22,
   "metadata": {
    "id": "UmgqjBwC3_4V"
   },
   "outputs": [
    {
     "name": "stdout",
     "output_type": "stream",
     "text": [
      "Original Array:\n",
      "[[1 2]\n",
      " [3 4]\n",
      " [5 6]\n",
      " [7 8]]\n",
      "\n",
      "Subarray [[3, 4], [7, 8]]:\n",
      "[[3 4]\n",
      " [5 6]]\n"
     ]
    }
   ],
   "source": [
    "original_array = np.array([[1, 2], [3, 4], [5, 6], [7, 8]])\n",
    "subarray = original_array[1:3, :]\n",
    "print(\"Original Array:\")\n",
    "print(original_array)\n",
    "print(\"\\nSubarray [[3, 4], [7, 8]]:\")\n",
    "print(subarray)"
   ]
  },
  {
   "cell_type": "markdown",
   "metadata": {
    "id": "vPrCHS_O3jK9"
   },
   "source": [
    "\n",
    "# **3. Broadcasting:**"
   ]
  },
  {
   "cell_type": "markdown",
   "metadata": {
    "id": "W3WUM5Cc3phc"
   },
   "source": [
    "Create a 2D array of shape (3, 3) with values from 0 to 2.\n"
   ]
  },
  {
   "cell_type": "code",
   "execution_count": 20,
   "metadata": {
    "id": "PxJrAlFW2RGw"
   },
   "outputs": [
    {
     "name": "stdout",
     "output_type": "stream",
     "text": [
      "3x3 array with values from 0 to 2:\n",
      " [[0 1 2]\n",
      " [0 1 2]\n",
      " [0 1 2]]\n"
     ]
    }
   ],
   "source": [
    "array = np.arange(9)\n",
    "array = array % 3\n",
    "array_2d = array.reshape(3, 3)\n",
    "print(\"3x3 array with values from 0 to 2:\\n\", array_2d)"
   ]
  },
  {
   "cell_type": "markdown",
   "metadata": {
    "id": "J5XPwN3A3rXG"
   },
   "source": [
    "Add a 1D array of shape (3,) to each row of the 2D array using broadcasting.\n"
   ]
  },
  {
   "cell_type": "code",
   "execution_count": 21,
   "metadata": {
    "id": "k4FM2g_c2RJv"
   },
   "outputs": [
    {
     "name": "stdout",
     "output_type": "stream",
     "text": [
      "Original 2D array:\n",
      "[[0 1 2]\n",
      " [3 4 5]\n",
      " [6 7 8]]\n"
     ]
    }
   ],
   "source": [
    "array_2d = np.array([[0, 1, 2],\n",
    "                     [3, 4, 5],\n",
    "                     [6, 7, 8]])\n",
    "array_1d = np.array([1, 2, 3])\n",
    "result = array_2d + array_1d\n",
    "print(\"Original 2D array:\")\n",
    "print(array_2d)"
   ]
  },
  {
   "cell_type": "markdown",
   "metadata": {
    "id": "9CbtQS3w4PA3"
   },
   "source": [
    "# **4. Concatenation and Splitting**"
   ]
  },
  {
   "cell_type": "markdown",
   "metadata": {
    "id": "yMg_umVy4ILG"
   },
   "source": [
    "\n",
    "1.   Create two 2D arrays of shape (3, 3) with random integers.\n",
    "2.   Concatenate them horizontally and vertically.\n",
    "3.   Split the concatenated arrays back into the original arrays.\n"
   ]
  },
  {
   "cell_type": "code",
   "execution_count": 24,
   "metadata": {
    "id": "wXiCa2Sn8XHP"
   },
   "outputs": [
    {
     "name": "stdout",
     "output_type": "stream",
     "text": [
      "First 2D array with random integers:\n",
      "[[ 7 37  0]\n",
      " [80 72 64]\n",
      " [58 22 98]]\n",
      "\n",
      "Second 2D array with random integers:\n",
      "[[64 29 33]\n",
      " [42 49 58]\n",
      " [69 72 35]]\n"
     ]
    }
   ],
   "source": [
    "array1 = np.random.randint(0, 100, size=(3, 3))\n",
    "array2 = np.random.randint(0, 100, size=(3, 3))\n",
    "print(\"First 2D array with random integers:\")\n",
    "print(array1)\n",
    "print(\"\\nSecond 2D array with random integers:\")\n",
    "print(array2)"
   ]
  },
  {
   "cell_type": "code",
   "execution_count": 25,
   "metadata": {
    "id": "yAiYe6vj8XSW"
   },
   "outputs": [
    {
     "name": "stdout",
     "output_type": "stream",
     "text": [
      "Horizontal Concatenation:\n",
      "[[ 7 37  0 64 29 33]\n",
      " [80 72 64 42 49 58]\n",
      " [58 22 98 69 72 35]]\n",
      "\n",
      "Vertical Concatenation:\n",
      "[[ 7 37  0]\n",
      " [80 72 64]\n",
      " [58 22 98]\n",
      " [64 29 33]\n",
      " [42 49 58]\n",
      " [69 72 35]]\n"
     ]
    }
   ],
   "source": [
    "horizontal_concatenation = np.hstack((array1, array2))\n",
    "vertical_concatenation = np.vstack((array1, array2))\n",
    "print(\"Horizontal Concatenation:\")\n",
    "print(horizontal_concatenation)\n",
    "\n",
    "print(\"\\nVertical Concatenation:\")\n",
    "print(vertical_concatenation)"
   ]
  },
  {
   "cell_type": "code",
   "execution_count": 27,
   "metadata": {
    "id": "lgMsjt-J8XZK"
   },
   "outputs": [
    {
     "name": "stdout",
     "output_type": "stream",
     "text": [
      "Split Horizontal Arrays:\n",
      "Array 1:\n",
      "[[ 7 37  0]\n",
      " [80 72 64]\n",
      " [58 22 98]]\n",
      "\n",
      "Array 2:\n",
      "[[64 29 33]\n",
      " [42 49 58]\n",
      " [69 72 35]]\n",
      "\n",
      "Split Vertical Arrays:\n",
      "Array 1:\n",
      "[[ 7 37  0]\n",
      " [80 72 64]\n",
      " [58 22 98]]\n",
      "\n",
      "Array 2:\n",
      "[[64 29 33]\n",
      " [42 49 58]\n",
      " [69 72 35]]\n"
     ]
    }
   ],
   "source": [
    "array1_horizontal = horizontal_concatenation[:, :3] # split horizontally\n",
    "array2_horizontal = horizontal_concatenation[:, 3:]\n",
    "\n",
    "array1_vertical = vertical_concatenation[:3, :]   # split vertically\n",
    "array2_vertical = vertical_concatenation[3:, :]\n",
    "\n",
    "print(\"Split Horizontal Arrays:\")\n",
    "print(\"Array 1:\")\n",
    "print(array1_horizontal)\n",
    "print(\"\\nArray 2:\")\n",
    "print(array2_horizontal)\n",
    "\n",
    "print(\"\\nSplit Vertical Arrays:\")\n",
    "print(\"Array 1:\")\n",
    "print(array1_vertical)\n",
    "print(\"\\nArray 2:\")\n",
    "print(array2_vertical)"
   ]
  },
  {
   "cell_type": "markdown",
   "metadata": {
    "id": "2CliNLH8YG3j"
   },
   "source": [
    "# **Bonus Question**\n",
    "\n",
    "Find mode of this array  = [1,2,1,2,3,4,5,6,8,9,1,2,2,22,21,1,1,1,1,2,5]\n",
    "\n",
    "Hint: Use count and also loop"
   ]
  },
  {
   "cell_type": "code",
   "execution_count": 23,
   "metadata": {
    "id": "JGe2Qe3SYaHq"
   },
   "outputs": [
    {
     "name": "stdout",
     "output_type": "stream",
     "text": [
      "Mode of the array using count and loop: 1\n"
     ]
    }
   ],
   "source": [
    "array = [1, 2, 1, 2, 3, 4, 5, 6, 8, 9, 1, 2, 2, 22, 21, 1, 1, 1, 1, 2, 5]\n",
    "mode = None\n",
    "max_count = 0\n",
    "for value in set(array):\n",
    "    count = array.count(value)\n",
    "    if count > max_count:\n",
    "        mode = value\n",
    "        max_count = count\n",
    "\n",
    "print(\"Mode of the array using count and loop:\", mode)"
   ]
  },
  {
   "cell_type": "markdown",
   "metadata": {
    "id": "1t9n5GQdYbHN"
   },
   "source": [
    "# **Notes**\n",
    "\n",
    "\n",
    "1.   All the Questions carry Equal Points (2 points)\n",
    "\n",
    "2.   Bonus Question carry 5 points\n",
    "\n",
    "3.   Review lecture for any query\n",
    "\n",
    "Good Luck!\n",
    "\n"
   ]
  },
  {
   "cell_type": "code",
   "execution_count": null,
   "metadata": {
    "id": "yxT9-gJfYugV"
   },
   "outputs": [],
   "source": []
  }
 ],
 "metadata": {
  "colab": {
   "provenance": []
  },
  "kernelspec": {
   "display_name": "Python 3 (ipykernel)",
   "language": "python",
   "name": "python3"
  },
  "language_info": {
   "codemirror_mode": {
    "name": "ipython",
    "version": 3
   },
   "file_extension": ".py",
   "mimetype": "text/x-python",
   "name": "python",
   "nbconvert_exporter": "python",
   "pygments_lexer": "ipython3",
   "version": "3.11.7"
  }
 },
 "nbformat": 4,
 "nbformat_minor": 4
}
